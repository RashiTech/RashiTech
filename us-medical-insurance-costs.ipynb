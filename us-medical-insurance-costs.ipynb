{
 "cells": [
  {
   "cell_type": "markdown",
   "metadata": {},
   "source": [
    "# U.S. Medical Insurance Costs"
   ]
  },
  {
   "cell_type": "code",
   "execution_count": null,
   "metadata": {},
   "outputs": [],
   "source": [
    "import csv"
   ]
  },
  {
   "cell_type": "code",
   "execution_count": null,
   "metadata": {},
   "outputs": [],
   "source": [
    "file_name = \"insurance.csv\"\n",
    "    "
   ]
  },
  {
   "cell_type": "raw",
   "metadata": {},
   "source": [
    "##Analysis to be done\n",
    "1. Finding interdependency of age and insurance cost if any\n",
    "2. Making patients info available in an organized manner"
   ]
  },
  {
   "cell_type": "code",
   "execution_count": null,
   "metadata": {},
   "outputs": [],
   "source": [
    "# creating lists for all variables\n",
    "age = []\n",
    "sex = []\n",
    "bmi = []\n",
    "smoker = []\n",
    "children = []\n",
    "region = []\n",
    "cost = []\n"
   ]
  },
  {
   "cell_type": "code",
   "execution_count": null,
   "metadata": {},
   "outputs": [],
   "source": [
    "def load_all_lists(file_name):\n",
    "    with open(file_name) as insurance_file:\n",
    "        insurance_dic = csv.DictReader(insurance_file)  \n",
    "        for row in insurance_dic:\n",
    "            age.append(row['age'])\n",
    "            sex.append(row['sex'])\n",
    "            bmi.append(row['bmi'])\n",
    "            smoker.append(row['smoker'])\n",
    "            children.append(row['children'])\n",
    "            region.append(row['region'])\n",
    "            cost.append(row['charges'])\n",
    "    return age, sex, bmi, smoker, children, region, cost  "
   ]
  },
  {
   "cell_type": "code",
   "execution_count": null,
   "metadata": {},
   "outputs": [],
   "source": [
    "# defining class Patient holding all methods to analyse about patients and costs\n",
    "class Patient:\n",
    "    def __init__(self,age, sex, bmi, smoker, children, region, cost):\n",
    "        self.age = age\n",
    "        self.sex = sex\n",
    "        self.bmi = bmi\n",
    "        self.smoker = smoker\n",
    "        self.children = children\n",
    "        self.region = region\n",
    "        self.cost = cost\n",
    "        \n",
    "    def __str__(self):\n",
    "        return \"Hello ! welcome to The Analysis Bureau.\"\n",
    "    \n",
    "    def is_smoker(self):\n",
    "        return self.smoker == \"smoker\"\n",
    "    \n",
    "    def risk_category(self):\n",
    "        if self.cost > 20000:\n",
    "            return \"High Risk\"\n",
    "        elif self.cost >10000:\n",
    "            return\"Moderate Risk\"\n",
    "        else:\n",
    "            return \"Low Risk\"\n",
    "        "
   ]
  },
  {
   "cell_type": "code",
   "execution_count": null,
   "metadata": {},
   "outputs": [],
   "source": [
    "patient1 = Patient(37, 'female', 29, \"non-smoker\", 2,\"East\", 10000)"
   ]
  },
  {
   "cell_type": "code",
   "execution_count": null,
   "metadata": {},
   "outputs": [],
   "source": [
    "print(patient1)\n",
    "patient1.is_smoker()\n"
   ]
  },
  {
   "cell_type": "code",
   "execution_count": null,
   "metadata": {},
   "outputs": [],
   "source": [
    "patient1.risk_category()"
   ]
  },
  {
   "cell_type": "code",
   "execution_count": null,
   "metadata": {},
   "outputs": [],
   "source": [
    "age, sex, bmi, smoker, children, region, cost = load_all_lists(file_name)\n",
    "int_age=[]; int_cost = []\n",
    "for item in age:\n",
    "    new_item=int(item)\n",
    "    int_age.append(new_item)\n",
    "for item in cost:\n",
    "    new_item=float(item.strip())\n",
    "    int_cost.append(new_item)    \n",
    "age_cost = list(zip(int_age, int_cost))\n",
    "# print(age_cost)\n",
    "no_of_records = len(age_cost)  \n",
    "print(no_of_records)"
   ]
  },
  {
   "cell_type": "code",
   "execution_count": null,
   "metadata": {},
   "outputs": [],
   "source": [
    "#Finding dependency of insurance cost on age of the patient\n",
    "def get_y(m, b, x):\n",
    "  y = m*x + b\n",
    "  return y"
   ]
  },
  {
   "cell_type": "code",
   "execution_count": null,
   "metadata": {},
   "outputs": [],
   "source": [
    "def calculate_error(m,b, point):\n",
    "    x_point= int(point[0])\n",
    "    y_point = int(point[1])\n",
    "    return abs(get_y(m,b,x_point)- y_point)"
   ]
  },
  {
   "cell_type": "code",
   "execution_count": null,
   "metadata": {},
   "outputs": [],
   "source": [
    "def calculate_all_error(m, b, points):\n",
    "    total_error = 0\n",
    "    for point in points:\n",
    "        total_error += calculate_error( m, b, point)\n",
    "    return total_error "
   ]
  },
  {
   "cell_type": "code",
   "execution_count": null,
   "metadata": {},
   "outputs": [],
   "source": [
    "possible_ms =[i*0.1 for i in range(-100,100)]"
   ]
  },
  {
   "cell_type": "code",
   "execution_count": null,
   "metadata": {},
   "outputs": [],
   "source": [
    "possible_bs =[i*0.1 for i in range(-200, 200)] #your list comprehension here"
   ]
  },
  {
   "cell_type": "code",
   "execution_count": null,
   "metadata": {},
   "outputs": [],
   "source": [
    "smallest_error= float(\"inf\")\n",
    "best_m = 0\n",
    "best_b = 0\n",
    "for m in possible_ms:\n",
    "    for b in possible_bs:\n",
    "        error = calculate_all_error(m,b, age_cost[:1100])\n",
    "        if error < smallest_error:\n",
    "            best_m =  m\n",
    "            best_b = b\n",
    "            smallest_error = error\n",
    "            \n",
    "print(best_m, best_b, smallest_error)   "
   ]
  },
  {
   "cell_type": "code",
   "execution_count": null,
   "metadata": {},
   "outputs": [],
   "source": [
    "error = calculate_all_error(best_m, best_b, age_cost[1101:1338])\n",
    "print(error)"
   ]
  },
  {
   "cell_type": "code",
   "execution_count": null,
   "metadata": {},
   "outputs": [],
   "source": [
    "#no corelation between age and insurance cost as we see very high error when trying linear regression"
   ]
  },
  {
   "cell_type": "code",
   "execution_count": null,
   "metadata": {},
   "outputs": [],
   "source": []
  }
 ],
 "metadata": {
  "kernelspec": {
   "display_name": "Python 3",
   "language": "python",
   "name": "python3"
  },
  "language_info": {
   "codemirror_mode": {
    "name": "ipython",
    "version": 3
   },
   "file_extension": ".py",
   "mimetype": "text/x-python",
   "name": "python",
   "nbconvert_exporter": "python",
   "pygments_lexer": "ipython3",
   "version": "3.8.8"
  }
 },
 "nbformat": 4,
 "nbformat_minor": 4
}
